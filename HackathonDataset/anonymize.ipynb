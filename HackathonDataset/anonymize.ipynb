{
 "cells": [
  {
   "cell_type": "code",
   "execution_count": null,
   "metadata": {},
   "outputs": [],
   "source": [
    "import scrubadub, scrubadub_address\n",
    "from pandarallel import pandarallel\n",
    "pandarallel.initialize(progress_bar=True)\n",
    "# - Usage: replace df.apply() with parallel_apply()"
   ]
  },
  {
   "cell_type": "code",
   "execution_count": null,
   "metadata": {},
   "outputs": [],
   "source": [
    "import matplotlib.pyplot as plt\n",
    "import numpy as np\n",
    "import pandas as pd"
   ]
  },
  {
   "cell_type": "code",
   "execution_count": null,
   "metadata": {},
   "outputs": [],
   "source": [
    "scrubber = scrubadub.Scrubber()\n",
    "scrubber.add_detector(scrubadub_address.detectors.AddressDetector)\n",
    "scrubber.clean(\"I live at 6919 Bell Drives, East Jessicastad, MO 76908\")\n"
   ]
  },
  {
   "cell_type": "code",
   "execution_count": null,
   "metadata": {},
   "outputs": [],
   "source": [
    "df = pd.read_csv('nogit_data/post_data_only.csv')\n",
    "reviews = df[df.src_category_name.str.contains('Reviews')]\n",
    "\n",
    "#note\" filter by post_id = 1\n",
    "small = reviews.sample(n=3)\n",
    "small\n",
    "small.post_text.to_list()\n",
    "my_str = small.iloc[0].post_text\n",
    "my_str\n",
    "scrubber.clean(my_str)"
   ]
  },
  {
   "cell_type": "code",
   "execution_count": null,
   "metadata": {},
   "outputs": [],
   "source": [
    "firsts = reviews[reviews.post_ordinal == 1].copy()"
   ]
  },
  {
   "cell_type": "markdown",
   "metadata": {},
   "source": [
    "idxs = [2,5,110,512,1099,12000, 96553]\n",
    "idxs = [2]\n",
    "for idx in idxs:\n",
    "    foo = firsts.post_text.iloc[idx]\n",
    "    #print(foo)\n",
    "    #print(foo.split('\\n'))\n",
    "    print(foo.split('\\n')[2].split(': '))\n",
    "\n",
    "    #print(scrubber.clean(foo))\n",
    "firsts['phones'] = firsts['post_text'].parallel_apply(lambda x: x.split('\\n')[2].split(': ')[-1] if len(x.split('\\n')) > 3 else 'No phone')\n"
   ]
  },
  {
   "cell_type": "markdown",
   "metadata": {},
   "source": [
    "firsts['scrubbed']   = firsts['phones'].parallel_apply(lambda x: scrubber.clean(x))"
   ]
  },
  {
   "cell_type": "markdown",
   "metadata": {},
   "source": [
    "firsts[~firsts.scrubbed.str.contains('{{PHONE}}')]"
   ]
  },
  {
   "cell_type": "markdown",
   "metadata": {},
   "source": [
    "idxs = [2,5,110,512,1099,12000, 96553]\n",
    "idxs = [2]\n",
    "for idx in idxs:\n",
    "    foo = firsts.post_text.iloc[idx]\n",
    "    #print(foo)\n",
    "    #print(foo.split('\\n'))\n",
    "    print(foo.split('\\n')[2].split(': '))\n",
    "\n",
    "    #print(scrubber.clean(foo))\n"
   ]
  },
  {
   "cell_type": "code",
   "execution_count": null,
   "metadata": {},
   "outputs": [],
   "source": [
    " #'Title: Review: 40 E broadway - LouLou\\nDate: Apr 2, 2021\\nPhone: No phone\\nCity: New York City\\nState: NY\\nLocation: Chinatown (CT)\\nAge Estimate: 30\\nNationality: Chinese\\nPhysical Description: Thick, natural,  Not attractive in particular.\\nClick to unlock the hidden Private Details in this review\\nRecommendation: No',\n",
    "#\n",
    "def get_data(string, text):\n",
    "    data = string.split('\\n') #[i].split(': ')[-1] if len(x.split('\\n')) > i else f'No {fields[i]}')\n",
    "    datum = 'N/A'\n",
    "    for line in data:\n",
    "        if text in line:\n",
    "            datum = line.split(text)[-1]\n",
    "    return datum\n",
    "         \n",
    "fields = ['title', 'date', 'phones', 'city', 'state', 'location', 'age', 'nationality', 'description', 'null', 'recommendation'] \n",
    "text_fields = ['Title: ', 'Date: ', 'Phone: ', 'City: ', 'State: ', 'Location: ', 'Age Estimate: ', 'Nationality: ', 'Description: ', 'Click to unlock the hidden Private Details in this review', 'Recommendation: '] \n",
    "for i in range(len(fields)):\n",
    "    print(i, fields[i])\n",
    "    firsts[fields[i]] = firsts['post_text'].apply(lambda x: get_data(x, text_fields[i]))\n"
   ]
  },
  {
   "cell_type": "code",
   "execution_count": null,
   "metadata": {},
   "outputs": [],
   "source": [
    "firsts\n",
    "tmp = 'Title: Review: 40 E broadway - LouLou\\nDate: Apr 2, 2021\\nPhone: No phone\\nCity: New York City\\nState: NY\\nLocation: Chinatown (CT)\\nAge Estimate: 30\\nNationality: Chinese\\nPhysical Description: Thick, natural,  Not attractive in particular.\\nClick to unlock the hidden Private Details in this review\\nRecommendation: No'\n",
    "get_data(tmp, 'Title: ')"
   ]
  },
  {
   "cell_type": "code",
   "execution_count": null,
   "metadata": {},
   "outputs": [],
   "source": [
    "hash_scrubber = scrubadub.Scrubber(\n",
    "    #scrubadub.detectors.PhoneDetector,\n",
    "    post_processor_list=[ scrubadub.post_processors.FilthReplacer(include_hash=True, hash_salt='TODO_REPLACE', hash_length=10), ])\n",
    "firsts['scrubbed'] = firsts['phones'].parallel_apply(hash_scrubber.clean)"
   ]
  },
  {
   "cell_type": "code",
   "execution_count": null,
   "metadata": {},
   "outputs": [],
   "source": [
    "firsts"
   ]
  },
  {
   "cell_type": "code",
   "execution_count": null,
   "metadata": {},
   "outputs": [],
   "source": [
    "#tmp = firsts[firsts.phones == 'No phone']\n",
    "#tmp.post_text.sample(n=4).to_list()"
   ]
  },
  {
   "cell_type": "code",
   "execution_count": null,
   "metadata": {},
   "outputs": [],
   "source": [
    "#scrubber.clean(foo)"
   ]
  },
  {
   "cell_type": "code",
   "execution_count": null,
   "metadata": {},
   "outputs": [],
   "source": [
    "#tmp"
   ]
  },
  {
   "cell_type": "code",
   "execution_count": null,
   "metadata": {},
   "outputs": [],
   "source": []
  },
  {
   "cell_type": "code",
   "execution_count": null,
   "metadata": {},
   "outputs": [],
   "source": []
  },
  {
   "cell_type": "code",
   "execution_count": null,
   "metadata": {},
   "outputs": [],
   "source": []
  }
 ],
 "metadata": {
  "kernelspec": {
   "display_name": "Python 3.10.7 ('v3')",
   "language": "python",
   "name": "python3"
  },
  "language_info": {
   "codemirror_mode": {
    "name": "ipython",
    "version": 3
   },
   "file_extension": ".py",
   "mimetype": "text/x-python",
   "name": "python",
   "nbconvert_exporter": "python",
   "pygments_lexer": "ipython3",
   "version": "3.10.7"
  },
  "vscode": {
   "interpreter": {
    "hash": "47339dd7c6d4bd32b6c40d54a37ff47f789dc7ff328ffb1f4a95f19daef7217e"
   }
  }
 },
 "nbformat": 4,
 "nbformat_minor": 2
}
