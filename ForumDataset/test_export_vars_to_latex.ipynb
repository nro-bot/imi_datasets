{
 "cells": [
  {
   "cell_type": "code",
   "execution_count": null,
   "metadata": {},
   "outputs": [],
   "source": [
    "# 05 April 2023\n",
    "# nrobot\n",
    "\n",
    "# A terrible way to export dataset statistics from python to latex.\n",
    "# Stores the output file into a location that then has to be hardcoded into the\n",
    "# latex file ...   which uses relative directories so makes assumptions about\n",
    "# the directory structure...................."
   ]
  },
  {
   "cell_type": "code",
   "execution_count": null,
   "metadata": {},
   "outputs": [],
   "source": [
    "import matplotlib.pyplot as plt\n",
    "import numpy as np\n",
    "import pandas as pd\n",
    "#import scipy\n",
    "#import seaborn as sns"
   ]
  },
  {
   "cell_type": "code",
   "execution_count": null,
   "metadata": {},
   "outputs": [],
   "source": [
    "file = './nogit_data/list_of_post_contents.csv'\n",
    "df = pd.read_csv(file)#, nrows=10_00)"
   ]
  },
  {
   "cell_type": "markdown",
   "metadata": {},
   "source": [
    "def save_var_latex(key, value, \n",
    "                   location='./nogit_data/0_python_to_latex_variables.dat'):\n",
    "    # Save one variable at a time.\n",
    "    # Re-write if it already exists.\n"
   ]
  },
  {
   "cell_type": "code",
   "execution_count": null,
   "metadata": {},
   "outputs": [],
   "source": [
    "def save_var_latex(key, value, output_location='./nogit_data/0_python_to_latex_variables.dat'):\n",
    "    import csv\n",
    "    import os\n",
    "\n",
    "    dict_var = {}\n",
    "\n",
    "    file_path = os.path.join(os.getcwd(), \n",
    "                             output_location)\n",
    "    print('Saving to: ', file_path)\n",
    "    DELIMITER = ';'\n",
    "\n",
    "    try:\n",
    "        with open(file_path, newline=\"\") as file:\n",
    "            reader = csv.reader(file, delimiter=DELIMITER)\n",
    "            for row in reader:\n",
    "                dict_var[row[0]] = row[1]\n",
    "    except FileNotFoundError:\n",
    "        pass\n",
    "\n",
    "    dict_var[key] = value\n",
    "\n",
    "    with open(file_path, \"w\") as f:\n",
    "        for key in dict_var.keys():\n",
    "            print('Saving', key, value)\n",
    "            f.write(f\"{key}{DELIMITER}{dict_var[key]}\\n\") # DELIMITER DEFINED HERE"
   ]
  },
  {
   "cell_type": "code",
   "execution_count": null,
   "metadata": {},
   "outputs": [],
   "source": [
    "df.value_counts(subset=['thread_page_url', 'thread_page_num', 'post_id'])"
   ]
  },
  {
   "cell_type": "code",
   "execution_count": null,
   "metadata": {},
   "outputs": [],
   "source": [
    "df.sample()\n",
    "df.columns"
   ]
  },
  {
   "cell_type": "code",
   "execution_count": null,
   "metadata": {},
   "outputs": [],
   "source": [
    "# There are a few dupcliates, not many\n",
    "df[ df.post_id == 'post-290182']"
   ]
  },
  {
   "cell_type": "code",
   "execution_count": null,
   "metadata": {},
   "outputs": [],
   "source": [
    "# overall num rows\n",
    "df.shape"
   ]
  },
  {
   "cell_type": "code",
   "execution_count": null,
   "metadata": {},
   "outputs": [],
   "source": [
    "# NaNs are for the hack-y comments in the csv \n",
    "# drop them\n",
    "df.dropna(subset='post_id').shape"
   ]
  },
  {
   "cell_type": "code",
   "execution_count": null,
   "metadata": {},
   "outputs": [],
   "source": [
    "# Cound post_ids "
   ]
  },
  {
   "cell_type": "code",
   "execution_count": null,
   "metadata": {},
   "outputs": [],
   "source": [
    "df.value_counts(subset=['thread_page_url', 'thread_page_num', 'post_id'])"
   ]
  },
  {
   "cell_type": "code",
   "execution_count": null,
   "metadata": {},
   "outputs": [],
   "source": [
    "NUM_FORUM_USERS = len(df.author.unique())\n",
    "NUM_FORUM_POSTS = len(df.dropna(subset='post_id').post_id.unique())\n",
    "save_var_latex(\"NUM_FORUM_USERS\", f'{NUM_FORUM_USERS:,d}')\n",
    "save_var_latex(\"NUM_FORUM_POSTS\", f'{NUM_FORUM_POSTS:,d}')"
   ]
  }
 ],
 "metadata": {
  "kernelspec": {
   "display_name": "Python 3.10.7 ('v3')",
   "language": "python",
   "name": "python3"
  },
  "language_info": {
   "codemirror_mode": {
    "name": "ipython",
    "version": 3
   },
   "file_extension": ".py",
   "mimetype": "text/x-python",
   "name": "python",
   "nbconvert_exporter": "python",
   "pygments_lexer": "ipython3",
   "version": "3.10.7"
  },
  "vscode": {
   "interpreter": {
    "hash": "47339dd7c6d4bd32b6c40d54a37ff47f789dc7ff328ffb1f4a95f19daef7217e"
   }
  }
 },
 "nbformat": 4,
 "nbformat_minor": 2
}
