{
 "cells": [
  {
   "cell_type": "code",
   "execution_count": null,
   "metadata": {},
   "outputs": [],
   "source": [
    "import matplotlib.pyplot as plt\n",
    "import numpy as np\n",
    "import pandas as pd\n",
    "import pandarallel\n",
    "import tqdm\n",
    "import altair as alt\n",
    "\n",
    "from altair_saver import save"
   ]
  },
  {
   "cell_type": "code",
   "execution_count": null,
   "metadata": {},
   "outputs": [],
   "source": [
    "!git rev-parse --show-toplevel\n"
   ]
  },
  {
   "cell_type": "code",
   "execution_count": null,
   "metadata": {},
   "outputs": [],
   "source": [
    "from pathlib import Path"
   ]
  },
  {
   "cell_type": "code",
   "execution_count": null,
   "metadata": {},
   "outputs": [],
   "source": [
    "file = './nogit_data/list_of_post_contents.csv'"
   ]
  },
  {
   "cell_type": "code",
   "execution_count": null,
   "metadata": {},
   "outputs": [],
   "source": [
    "df = pd.read_csv(file)#, nrows=10_00)\n",
    "df"
   ]
  },
  {
   "cell_type": "code",
   "execution_count": null,
   "metadata": {},
   "outputs": [],
   "source": [
    "df.columns"
   ]
  },
  {
   "cell_type": "code",
   "execution_count": null,
   "metadata": {},
   "outputs": [],
   "source": [
    "columns_page_info = ['time_downloaded', 'author', 'posted_date_readable',  'post_ordinal', 'thread_page_name', 'thread_page_num', 'thread_page_url', 'post_text']\n",
    "\n",
    "columns_thread_info = ['src_category_name', 'thread_page_name', 'thread_page_num', 'thread_max_pages', 'thread_page_url']\n",
    "\n",
    "columns_likes = ['num_likers', 'likers']\n",
    "columns_quotes = ['num_quotes', 'quoted_post_ids', 'quoted_authors', 'quoted_contents']\n",
    "columns_authors = ['author', 'author_title', 'author_num_posts', 'author_num_reviews', 'author_url', 'join_date_readable', 'join_date_data']"
   ]
  },
  {
   "cell_type": "code",
   "execution_count": null,
   "metadata": {},
   "outputs": [],
   "source": [
    "posts = df[columns_page_info].dropna(subset=['time_downloaded'])"
   ]
  },
  {
   "cell_type": "code",
   "execution_count": null,
   "metadata": {},
   "outputs": [],
   "source": [
    "from tqdm import tqdm\n",
    "tqdm.pandas()\n",
    "# - Usage: replace df.apply() with progress_apply()"
   ]
  },
  {
   "cell_type": "code",
   "execution_count": null,
   "metadata": {},
   "outputs": [],
   "source": [
    "from pandarallel import pandarallel\n",
    "pandarallel.initialize(progress_bar=True)\n",
    "# - Usage: replace df.apply() with parallel_apply()"
   ]
  },
  {
   "cell_type": "code",
   "execution_count": null,
   "metadata": {},
   "outputs": [],
   "source": [
    "posts['posted_date_datetime'] = posts.posted_date_readable.parallel_apply(lambda x: pd.to_datetime(x))"
   ]
  },
  {
   "cell_type": "code",
   "execution_count": null,
   "metadata": {},
   "outputs": [],
   "source": [
    "posts.sample()"
   ]
  },
  {
   "cell_type": "code",
   "execution_count": null,
   "metadata": {},
   "outputs": [],
   "source": [
    "#annot_text[(annot_text.index > '1990') & (annot_text.index < '2023')].resample('Y').count()"
   ]
  },
  {
   "cell_type": "code",
   "execution_count": null,
   "metadata": {},
   "outputs": [],
   "source": [
    "#try: posts.set_index('posted_date_readable') \n",
    "#except: pass\n",
    "#display(posts.dtypes)\n",
    "#print(posts.index)\n",
    "print(posts.dtypes)\n",
    "#posts.groupby(posts.posted_date_datetime).count()\n",
    "date_filter = (posts.posted_date_datetime > '2000') & (posts.posted_date_datetime < '2023')#.resample('Y').count().reset_index()\n",
    "_tmp = posts[date_filter]\n",
    "#_tmp.resample('Y', on='post_date_datetime').count().reset_index()\n",
    "_tmp"
   ]
  },
  {
   "cell_type": "markdown",
   "metadata": {},
   "source": [
    "# define weekly and daily"
   ]
  },
  {
   "cell_type": "code",
   "execution_count": null,
   "metadata": {},
   "outputs": [],
   "source": [
    "# https://vega.github.io/vega/docs/schemes/\n",
    "\n",
    "                                # https://stackoverflow.com/questions/60331614/how-to-highlight-a-bar-by-datetime-value-with-altair\n",
    "# https://stackoverflow.com/questions/60351135/hours-and-minutes-as-labels-in-altair-plot-spanning-more-than-one-day\n",
    "                                # https://stackoverflow.com/questions/60331614/how-to-highlight-a-bar-by-datetime-value-with-altair\n",
    "#!pip install altair==5.0.0rc1\n",
    "# must be at least 5.0.0 or else \"method based syntax\" does not work (for setting title)\n",
    "# will get error \"undefinedtype\" object is not callable\n",
    "\n",
    "#alt.themes.enable('default') # ggplot2, vox, quartz, fivethirtyeight, googlecharts, excel\n",
    "# https://vega.github.io/vega-themes/?theme=default\n",
    "\n",
    "        #ch = alt.Chart(_df).mark_line().encode(\n",
    "        #x='posted_time:T',\n",
    "        #y='posts_per_day:Q'\n",
    "\n",
    "weekly = posts[date_filter].resample('W', on='posted_date_datetime').apply({'post_ordinal': 'count'}).reset_index(\n",
    ").rename(columns={'posted_date_datetime': 'posted_time', 'post_ordinal': 'posts_per_day'})\n",
    "weekly\n",
    "\n"
   ]
  },
  {
   "cell_type": "code",
   "execution_count": null,
   "metadata": {},
   "outputs": [],
   "source": [
    "daily = posts[date_filter].resample('D', on='posted_date_datetime').apply({'post_ordinal': 'count'}).reset_index(\n",
    ").rename(columns={'posted_date_datetime': 'posted_time', 'post_ordinal': 'posts_per_day'})\n",
    "daily\n"
   ]
  },
  {
   "cell_type": "markdown",
   "metadata": {},
   "source": [
    "# define theme"
   ]
  },
  {
   "cell_type": "code",
   "execution_count": null,
   "metadata": {},
   "outputs": [],
   "source": [
    "# https://github.com/altair-viz/altair/issues/1021\n",
    "#def finalize_chart(chart):\n",
    "    #chart.x.axis = {'title': 'options'}\n",
    "    #chart.y.axis = {'title': 'percentage of students'}\n",
    "    #chart.mark = {'type': 'bar', 'size': 3)\n",
    "    #return chart\n",
    "\n",
    "alt.__version__ \n",
    "SCALE=1.5\n",
    "def theme_1(*args, **kwargs):\n",
    "    return {'width': 400, 'height': 300,\n",
    "            'config': {#'style': {'bar': {'size': 20}},\n",
    "                       #'legend': {'symbolSize': 20, 'titleFontSize': 20, 'labelFontSize': 20}, \n",
    "                       'title':{'fontSize': 20*SCALE},\n",
    "                       'axis': {'titleFontSize': 15*SCALE, 'labelFontSize': 15*SCALE},\n",
    "                        \"axisX\": { #https://towardsdatascience.com/consistently-beautiful-visualizations-with-altair-themes-c7f9f889602\n",
    "                                \"tickSize\": 10, # default, including it just to show you can change it\n",
    "                                \"tickWidth\":2,\n",
    "                        }\n",
    "            },\n",
    "    }\n",
    "            #'encoding': {'x': {'axis': {'title': 'options'}, 'scale': {'paddingOuter': 0.5, 'paddingInner': 0.5}},\n",
    "            #             'y': {'axis': {'title': 'percentage of students'}}}}\n",
    "alt.themes.register('theme_1', theme_1)\n",
    "alt.themes.enable('theme_1')"
   ]
  },
  {
   "cell_type": "markdown",
   "metadata": {},
   "source": [
    "# plot"
   ]
  },
  {
   "cell_type": "code",
   "execution_count": null,
   "metadata": {},
   "outputs": [],
   "source": []
  },
  {
   "cell_type": "markdown",
   "metadata": {},
   "source": [
    "# daily"
   ]
  },
  {
   "cell_type": "code",
   "execution_count": null,
   "metadata": {},
   "outputs": [],
   "source": [
    "alt.themes.enable('theme_1')\n",
    "#date_filter = alt.selection_interval\n",
    "fmt_obj = '{ \"year\": \"%Y\", \"quarter\": \"%B\", \"month\": \"%B\", \"week\": \"%b %d\", \"date\": \"%a %d\", \"hours\": \"%H:%M\", \"minutes\": \"%H:%M\", \"seconds\": \":%S\", \"milliseconds\": \".%L\" }'\n",
    "time_fmt = f\"timeFormat(datum.value, {fmt_obj})\"\n",
    "\n",
    "# https://github.com/altair-viz/altair/issues/187\n",
    "date_min = daily.posted_time.min()\n",
    "date_max = daily.posted_time.max() \n",
    "#my_values = list(pd.date_range(date_min, date_max, freq='W-MON').astype(int) / 10 ** 6)\n",
    "my_values = list(pd.date_range(date_min, date_max, freq='M').astype(int))\n",
    "#display(my_values)\n",
    "time_fmt = \"month(datum.value) == 'June' ? '2019!' : timeFormat(datum.value)\"\n",
    "\n",
    "#.transform_calculate(\n",
    "#    group='month(datum.date) < 4 ? \"Jan-Apr\" : month(datum.date) < 8 ? \"May-Aug\" : \"Sep-Dec\"'\n",
    "chart = alt.Chart(daily).mark_bar(\n",
    "    width=2,\n",
    "    opacity=1,\n",
    "    clip=True,\n",
    "    #line=True,\n",
    "    #stroke='gray',\n",
    "    #strokeOpacity=8\n",
    "    color='lightblue'\n",
    "    ).encode(\n",
    "        alt.X('posted_time:T',\n",
    "                scale=alt.Scale(nice={'interval': 'month', 'step': 1}, domain=[daily.posted_time.min(), daily.posted_time.max()]),\n",
    "                axis=alt.Axis(\n",
    "                    #values=my_values,\n",
    "                    #format={'month':'%B','year':'%Y'},\n",
    "                    #format={'date':'%x', 'month':'%b \\'%y', 'year':'%Y', 'quarter':'%b \\'%y'},\n",
    "                    #format={'date':'%x', 'month':'%b.', 'year':'%Y', 'quarter':'%b.'},\n",
    "                    format={'date':'%x', 'month':'%b.', 'year':'{%Y}', 'quarter':'%b.'},\n",
    "                    tickCount={\"interval\": \"month\", \"step\":1},\n",
    "                    labelAngle=-30,\n",
    "                    #labelExpr=time_fmt/\n",
    "                    )\n",
    "                ).title('Time (Tick per Month)'),\n",
    "            alt.Y('posts_per_day:Q',).title('Num. of Posts'),\n",
    "            #color=alt.condition(genre_filter, alt.value(), alt.value(\"red\")),\n",
    "                color = alt.condition(\n",
    "                                ((alt.datum.posted_time > alt.expr.toDate('2020-03-01T00:00:00')) &\n",
    "                                        (alt.datum.posted_time <= alt.expr.toDate('2020-07-30T00:00:00'))) |\n",
    "                                (alt.datum.posted_time < alt.expr.toDate(\n",
    "                                    '2018-12-31T00:00:00')),\n",
    "                                alt.value('lightblue'), alt.value('lightblue')\n",
    "                                ),\n",
    "        ).properties(width=1200, height=250, title='Num. of Forum Posts (per day)')\n",
    "#chart.configure_bar(stroke='gray')\n",
    "\n",
    "covid_start = daily[daily.posted_time >= '2020-03-01'].iloc[0].values[0]\n",
    "covid_end = daily[daily.posted_time >= '2020-07-31'].iloc[0].values[0]\n",
    "cutoff = pd.DataFrame({\n",
    "    'start': [covid_start],\n",
    "    'stop': [covid_end ]\n",
    "})\n",
    "\n",
    "area_covid = alt.Chart(\n",
    "    cutoff.reset_index()\n",
    ").mark_rect(\n",
    "    opacity=0.5,\n",
    "    stroke='red',\n",
    "    strokeOpacity=1,\n",
    "    strokeWidth=3\n",
    ").encode(\n",
    "    x='start',\n",
    "    x2='stop',\n",
    "    y=alt.value(0),  # pixels from top\n",
    "    y2=alt.value(250),  # pixels from top\n",
    "    color=alt.value('transparent'),\n",
    " \n",
    ")\n",
    "cutoff_2019 = pd.DataFrame({\n",
    "    'start': [daily.posted_time.min()],\n",
    "    'stop': [daily.posted_time.min()],\n",
    "    #'stop': [daily[daily.posted_time >= '2018-12-31'].iloc[0].values[0]],\n",
    "})\n",
    "area_2019= alt.Chart(\n",
    "    cutoff_2019.reset_index()\n",
    ").mark_rect(\n",
    "    opacity=0.5,\n",
    "    stroke='red',\n",
    "    strokeOpacity=1,\n",
    "    strokeWidth=3\n",
    ").encode(\n",
    "    x='start',\n",
    "    x2='stop',\n",
    "    y=alt.value(0),  # pixels from top\n",
    "    y2=alt.value(250),  # pixels from top\n",
    "    color=alt.value('transparent'),\n",
    " \n",
    ")\n",
    "\n",
    "years = []\n",
    "for year in range(2019,2023):\n",
    "    year_dt = pd.to_datetime(str(year)) # CAREFUL! must use str() here!\n",
    "    print(year_dt)\n",
    "    years.append(daily[daily.posted_time >= year_dt].iloc[0].values[0])\n",
    "rules = alt.Chart(pd.DataFrame({\n",
    "  'Date': years, \n",
    "  #'color': 'orange'\n",
    "})).mark_rule().encode(\n",
    "  x='Date:T',\n",
    "  color=alt.value('gray'),\n",
    "  #color=alt.Color('color:N', scale=None)\n",
    "      strokeWidth=alt.value(1.5)\n",
    ")\n",
    "#!pip install \n",
    "#(demo + rules )\n",
    "#(areas + chart)\n",
    "#(areas +  chart + rules)\n",
    "\n",
    "final = (chart+area_covid+rules).configure(background='#F9F3DC').configure_view(fill='white')\n",
    "#save( final, str(Path(LATEX_FIG_FOLDER, 'daily_posts.pdf')))\n",
    "\n",
    "#chart\n",
    "#overlay = pd.DataFrame({'x': [covid_date]})\n",
    "#vline = alt.Chart(overlay).mark_rule(color='red', strokeWidth=3).encode(x='x:Q')\n",
    "#alt.layer(chart, vline, data=daily)\n",
    "\n",
    "#chart.mark_rule().encode(x=alt.datum(.toDate('2020-03-01T00:00:00')))\n",
    "#chart.mark_rule().encode(x={'Timestamp': \"2020-01-01\"},)\n",
    "( chart + area_covid + rules)#area_2019 + rules)\n",
    "final"
   ]
  },
  {
   "cell_type": "code",
   "execution_count": null,
   "metadata": {},
   "outputs": [],
   "source": [
    "# to output to pdf... need... npm ??? wtf\n",
    "# https://github.com/altair-viz/altair_saver#installation"
   ]
  },
  {
   "cell_type": "markdown",
   "metadata": {},
   "source": [
    "# weekly"
   ]
  },
  {
   "cell_type": "code",
   "execution_count": null,
   "metadata": {},
   "outputs": [],
   "source": [
    "alt.themes.enable('theme_1')\n",
    "#date_filter = alt.selection_interval\n",
    "fmt_obj = '{ \"year\": \"%Y\", \"quarter\": \"%B\", \"month\": \"%B\", \"week\": \"%b %d\", \"date\": \"%a %d\", \"hours\": \"%H:%M\", \"minutes\": \"%H:%M\", \"seconds\": \":%S\", \"milliseconds\": \".%L\" }'\n",
    "time_fmt = f\"timeFormat(datum.value, {fmt_obj})\"\n",
    "\n",
    "# https://github.com/altair-viz/altair/issues/187\n",
    "date_min = weekly.posted_time.min()\n",
    "date_max = weekly.posted_time.max() \n",
    "#my_values = list(pd.date_range(date_min, date_max, freq='W-MON').astype(int) / 10 ** 6)\n",
    "my_values = list(pd.date_range(date_min, date_max, freq='M').astype(int))\n",
    "#display(my_values)\n",
    "time_fmt = \"month(datum.value) == 'June' ? '2019!' : timeFormat(datum.value)\"\n",
    "\n",
    "#.transform_calculate(\n",
    "#    group='month(datum.date) < 4 ? \"Jan-Apr\" : month(datum.date) < 8 ? \"May-Aug\" : \"Sep-Dec\"'\n",
    "chart = alt.Chart(weekly).mark_bar(\n",
    "    width=4,\n",
    "    opacity=1,\n",
    "    #line=True\n",
    "    #stroke='gray',\n",
    "    #strokeOpacity=8\n",
    "    color='lightblue'\n",
    "    ).encode(\n",
    "        alt.X('posted_time:T',\n",
    "                scale=alt.Scale(nice={'interval': 'month', 'step': 1}),\n",
    "                axis=alt.Axis(\n",
    "                    #values=my_values,\n",
    "                    #format={'month':'%B','year':'%Y'},\n",
    "                    #format={'date':'%x', 'month':'%b \\'%y', 'year':'%Y', 'quarter':'%b \\'%y'},\n",
    "                    #format={'date':'%x', 'month':'%b.', 'year':'%Y', 'quarter':'%b.'},\n",
    "                    format={'date':'%x', 'month':'%b', 'year':'%Y', 'quarter':'%b.'},\n",
    "                    tickCount={\"interval\": \"month\", \"step\":1},\n",
    "                    labelAngle=-30,\n",
    "                    #labelExpr=time_fmt/\n",
    "                    )\n",
    "                ).title('Time (Tick per Month)'),\n",
    "            alt.Y('posts_per_day:Q',).title('Num. of Posts'),\n",
    "            #color=alt.condition(genre_filter, alt.value(), alt.value(\"red\")),\n",
    "                color = alt.condition(\n",
    "                                ((alt.datum.posted_time > alt.expr.toDate('2020-03-01T00:00:00')) &\n",
    "                                        (alt.datum.posted_time <= alt.expr.toDate('2020-07-30T00:00:00'))) |\n",
    "                                (alt.datum.posted_time < alt.expr.toDate(\n",
    "                                    '2018-12-31T00:00:00')),\n",
    "                                alt.value('gold'), alt.value('lightblue')\n",
    "                                ),\n",
    "        ).properties(width=1000, height=250, title='Num. of Forum Posts (per week)')\n",
    "#chart.configure_bar(stroke='gray')\n",
    "\n",
    "covid_start = weekly[weekly.posted_time >= '2020-03-01'].iloc[0].values[0]\n",
    "covid_end = weekly[weekly.posted_time >= '2020-07-31'].iloc[0].values[0]\n",
    "cutoff = pd.DataFrame({\n",
    "    'start': [covid_start],\n",
    "    'stop': [covid_end ]\n",
    "})\n",
    "areas = alt.Chart(\n",
    "    cutoff.reset_index()\n",
    ").mark_rect(\n",
    "    opacity=0.5,\n",
    "    stroke='red',\n",
    "    strokeOpacity=1,\n",
    "    strokeWidth=3\n",
    ").encode(\n",
    "    x='start',\n",
    "    x2='stop',\n",
    "    y=alt.value(0),  # pixels from top\n",
    "    y2=alt.value(250),  # pixels from top\n",
    "    color=alt.value('transparent'),\n",
    " \n",
    ")\n",
    "\n",
    "#forum_start = weekly.posted_time.min()\n",
    "#forum_end = weekly[weekly.posted_time >= '2019-01-01'].iloc[0].values[0]\n",
    "years = []\n",
    "for year in range(2019,2023):\n",
    "    year_dt = pd.to_datetime(str(year)) # CAREFUL! must use str() here!\n",
    "    print(year_dt)\n",
    "    years.append(weekly[weekly.posted_time >= year_dt].iloc[0].values[0])\n",
    "rules = alt.Chart(pd.DataFrame({\n",
    "  'Date': years, \n",
    "  #'color': 'orange'\n",
    "})).mark_rule().encode(\n",
    "  x='Date:T',\n",
    "  color=alt.value('gray'),\n",
    "  #color=alt.Color('color:N', scale=None)\n",
    "      strokeWidth=alt.value(1.5)\n",
    ")\n",
    "#(demo + rules )\n",
    "(areas + chart)\n",
    "(areas +  chart + rules)\n",
    "( chart + areas+ rules)\n",
    "#chart.save('char.pdf')\n",
    "#chart\n",
    "#overlay = pd.DataFrame({'x': [covid_date]})\n",
    "#vline = alt.Chart(overlay).mark_rule(color='red', strokeWidth=3).encode(x='x:Q')\n",
    "#alt.layer(chart, vline, data=weekly)\n",
    "\n",
    "#chart.mark_rule().encode(x=alt.datum(.toDate('2020-03-01T00:00:00')))\n",
    "#chart.mark_rule().encode(x={'Timestamp': \"2020-01-01\"},)"
   ]
  },
  {
   "cell_type": "code",
   "execution_count": null,
   "metadata": {},
   "outputs": [],
   "source": [
    "type(weekly[weekly.posted_time >= '2020-03-01'].iloc[0])\n",
    "covid_date = weekly[weekly.posted_time >= '2020-03-01'].iloc[0].values[0]\n",
    "covid_date"
   ]
  },
  {
   "cell_type": "code",
   "execution_count": null,
   "metadata": {},
   "outputs": [],
   "source": [
    "pd.to_datetime('2020')"
   ]
  },
  {
   "cell_type": "markdown",
   "metadata": {},
   "source": [
    "# nah, use the background instead"
   ]
  },
  {
   "cell_type": "code",
   "execution_count": null,
   "metadata": {},
   "outputs": [],
   "source": [
    "alt.themes.enable('theme_1')\n",
    "\n",
    "fmt_obj = '{ \"year\": \"%Y\", \"quarter\": \"%B\", \"month\": \"%B\", \"week\": \"%b %d\", \"date\": \"%a %d\", \"hours\": \"%H:%M\", \"minutes\": \"%H:%M\", \"seconds\": \":%S\", \"milliseconds\": \".%L\" }'\n",
    "time_fmt = f\"timeFormat(datum.value, {fmt_obj})\"\n",
    "\n",
    "#.transform_calculate(\n",
    "#    group='month(datum.date) < 4 ? \"Jan-Apr\" : month(datum.date) < 8 ? \"May-Aug\" : \"Sep-Dec\"'\n",
    "chart = alt.Chart(weekly).mark_bar(\n",
    "            color='lightblue'\n",
    "    ).encode(\n",
    "        alt.X('posted_time:T',\n",
    "                #timeUnit='month'\n",
    "                scale=alt.Scale(nice={'interval': 'month', 'step': 1}),\n",
    "                axis=alt.Axis(\n",
    "                    format={'date':'%x', 'month':' ', 'year':'%Y', 'quarter':' '},\n",
    "                    tickCount={\"interval\": \"month\", \"step\":1},\n",
    "                    ),\n",
    "                ).title('Time'),\n",
    "            alt.Y('posts_per_day:Q',).title('Num. of Posts'),\n",
    "            #color=alt.condition(genre_filter, alt.value(), alt.value(\"red\")),\n",
    "        ).properties(width=1500, height=200, title='Posts per Week')\n",
    "chart.configure_bar(stroke='gray')\n",
    "\n",
    "\n",
    "covid_start = weekly[weekly.posted_time >= '2020-03-01'].iloc[0].values[0]\n",
    "covid_end = weekly[weekly.posted_time >= '2020-07-31'].iloc[0].values[0]\n",
    "cutoff = pd.DataFrame({\n",
    "    'start': [covid_start],\n",
    "    'stop': [covid_end ]\n",
    "})\n",
    "areas = alt.Chart(\n",
    "    cutoff.reset_index()\n",
    ").mark_rect(\n",
    "    opacity=0.9\n",
    ").encode(\n",
    "    x='start',\n",
    "    x2='stop',\n",
    "    y=alt.value(0),  # pixels from top\n",
    "    y2=alt.value(200),  # pixels from top\n",
    "    color=alt.value('gold')\n",
    ")\n",
    "\n",
    "(areas + chart)\n"
   ]
  },
  {
   "cell_type": "code",
   "execution_count": null,
   "metadata": {},
   "outputs": [],
   "source": [
    "\n",
    "# unused example\n",
    "#text = chart.mark_text(align='left', dx=5, dy=-5).encode(\n",
    "    #text=alt.condition(alt.datum.posted_time == alt.expr.toDate(\n",
    "                                    #'2018-12-31T00:00:00'),\n",
    "                                    #'2018', alt.value('')\n",
    "                                    #)\n",
    "#)\n",
    "#chart + text"
   ]
  },
  {
   "cell_type": "code",
   "execution_count": null,
   "metadata": {},
   "outputs": [],
   "source": []
  },
  {
   "cell_type": "code",
   "execution_count": null,
   "metadata": {},
   "outputs": [],
   "source": []
  },
  {
   "cell_type": "code",
   "execution_count": null,
   "metadata": {},
   "outputs": [],
   "source": [
    "chart = alt.Chart(daily).mark_bar(\n",
    "    ).encode(\n",
    "        alt.X('yearquartermonth(posted_time):T',\n",
    "                axis=alt.Axis(\n",
    "                    #values=my_values,\n",
    "                    #format={'month':'%B','year':'%Y'},\n",
    "                    #tickCount={\"interval\": \"month\", \"step\":1},\n",
    "                    #labelExpr=time_fmt\n",
    "                    )\n",
    "                ).title('Time'),\n",
    "            alt.Y('sum(posts_per_day):Q').title('Num. of Posts'),\n",
    "            #color=alt.condition(genre_filter, alt.value(), alt.value(\"red\")),\n",
    "                color = alt.condition(\n",
    "                                ((alt.datum.posted_time > alt.expr.toDate('2020-03-01T00:00:00')) &\n",
    "                                        (alt.datum.posted_time <= alt.expr.toDate('2020-07-30T00:00:00'))) |\n",
    "                                (alt.datum.posted_time < alt.expr.toDate(\n",
    "                                    '2018-12-31T00:00:00')),\n",
    "                                alt.value('gold'), alt.value('lightblue')\n",
    "                                ),\n",
    "        ).properties(width=1050, height=200, title='Posts per Week')\n",
    "\n",
    "#x_axis = alt.X('time', axis=alt.Axis(labelExpr=time_fmt))\n",
    "\n",
    "chart.configure_bar(stroke='gray')\n"
   ]
  },
  {
   "cell_type": "code",
   "execution_count": null,
   "metadata": {},
   "outputs": [],
   "source": [
    "# https://vega.github.io/vega/docs/schemes/\n",
    "import altair as alt\n",
    "#!pip install altair==5.0.0rc1\n",
    "display(alt.__version__ )# must be at least 5.0.0 or else \"method based syntax\" does not work (for setting title)     \n",
    "# will get error \"undefinedtype\" object is not callable\n",
    "\n",
    "alt.themes.enable('default') # ggplot2, vox, quartz, fivethirtyeight, googlecharts, excel\n",
    "# https://vega.github.io/vega-themes/?theme=default\n",
    "\n",
    "_df = _tmp.resample('D', on='posted_date_datetime').apply({'post_ordinal':'count'}).reset_index().rename(columns={'posted_date_datetime':'posted_time', 'post_ordinal':'posts_per_day'})\n",
    "_df\n",
    "\n",
    "chart = alt.Chart(_df).mark_bar(\n",
    "    #line=True\n",
    ").encode(\n",
    "#ch = alt.Chart(_df).mark_line().encode(\n",
    "    #x='posted_time:T',\n",
    "    #y='posts_per_day:Q'\n",
    "    alt.X('posted_time:T').title('Day'),\n",
    "    alt.Y('posts_per_day:Q').title('Num. of Posts'),\n",
    "\n",
    ").properties(width=1000, height=400, title='Posts per Day')\n",
    "\n",
    "chart"
   ]
  },
  {
   "cell_type": "code",
   "execution_count": null,
   "metadata": {},
   "outputs": [],
   "source": [
    "# temps = temps[temps.date < '2010-01-15']\n",
    "# alt.Chart(temps).mark_line().encode(\n",
    "#     x='date:T',\n",
    "#     y='temp:Q'\n",
    "# )\n",
    "#alt.data_transformers.enable('data_server')\n",
    "# https://altair-viz.github.io/user_guide/times_and_dates.html\n",
    "#alt.Chart(posts.reset_index().melt(\"posted_date_datetime\")).mark_circle().encode(\n",
    "    #x='posted_date_datetime',\n",
    "    #y='value',\n",
    "#).properties(width=800, height=400)"
   ]
  },
  {
   "cell_type": "code",
   "execution_count": null,
   "metadata": {},
   "outputs": [],
   "source": [
    "df.columns"
   ]
  },
  {
   "cell_type": "code",
   "execution_count": null,
   "metadata": {},
   "outputs": [],
   "source": [
    "df.author_num_posts"
   ]
  },
  {
   "cell_type": "code",
   "execution_count": null,
   "metadata": {},
   "outputs": [],
   "source": [
    "import altair as alt\n",
    "print(alt.__version__)\n",
    "from vega_datasets import data\n",
    "\n",
    "temps = data.seattle_temps()\n",
    "temps.head()\n",
    "temps = temps[temps.date < '2010-01-15']\n",
    "alt.Chart(temps).mark_line().encode(\n",
    "    x='date:T',\n",
    "    y='temp:Q'\n",
    ")"
   ]
  },
  {
   "cell_type": "code",
   "execution_count": null,
   "metadata": {},
   "outputs": [],
   "source": []
  },
  {
   "cell_type": "code",
   "execution_count": null,
   "metadata": {},
   "outputs": [],
   "source": [
    "alt.themes.enable('theme_1')\n",
    "#date_filter = alt.selection_interval\n",
    "fmt_obj = '{ \"year\": \"%Y\", \"quarter\": \"%B\", \"month\": \"%B\", \"week\": \"%b %d\", \"date\": \"%a %d\", \"hours\": \"%H:%M\", \"minutes\": \"%H:%M\", \"seconds\": \":%S\", \"milliseconds\": \".%L\" }'\n",
    "time_fmt = f\"timeFormat(datum.value, {fmt_obj})\"\n",
    "\n",
    "# https://github.com/altair-viz/altair/issues/187\n",
    "date_min = daily.posted_time.min()\n",
    "date_max = daily.posted_time.max() \n",
    "#my_values = list(pd.date_range(date_min, date_max, freq='W-MON').astype(int) / 10 ** 6)\n",
    "my_values = list(pd.date_range(date_min, date_max, freq='M').astype(int))\n",
    "#display(my_values)\n",
    "time_fmt = \"month(datum.value) == 'June' ? '2019!' : timeFormat(datum.value)\"\n",
    "\n",
    "#.transform_calculate(\n",
    "#    group='month(datum.date) < 4 ? \"Jan-Apr\" : month(datum.date) < 8 ? \"May-Aug\" : \"Sep-Dec\"'\n",
    "chart = alt.Chart(daily).mark_bar(\n",
    "    width=2,\n",
    "    opacity=1,\n",
    "    #line=True\n",
    "    #stroke='gray',\n",
    "    #strokeOpacity=8\n",
    "    color='lightblue'\n",
    "    ).encode(\n",
    "        alt.X('posted_time:T',\n",
    "                scale=alt.Scale(nice={'interval': 'month', 'step': 1}),\n",
    "                axis=alt.Axis(\n",
    "                    #values=my_values,\n",
    "                    #format={'month':'%B','year':'%Y'},\n",
    "                    #format={'date':'%x', 'month':'%b \\'%y', 'year':'%Y', 'quarter':'%b \\'%y'},\n",
    "                    #format={'date':'%x', 'month':'%b.', 'year':'%Y', 'quarter':'%b.'},\n",
    "                    format={'date':'%x', 'month':'%b', 'year':'%Y', 'quarter':'%b.'},\n",
    "                    tickCount={\"interval\": \"month\", \"step\":1},\n",
    "                    labelAngle=-30,\n",
    "                    #labelExpr=time_fmt/\n",
    "                    )\n",
    "                ).title('Time (Tick per Month)'),\n",
    "            alt.Y('posts_per_day:Q',).title('Num. of Posts'),\n",
    "            #color=alt.condition(genre_filter, alt.value(), alt.value(\"red\")),\n",
    "                color = alt.condition(\n",
    "                                ((alt.datum.posted_time > alt.expr.toDate('2020-03-01T00:00:00')) &\n",
    "                                        (alt.datum.posted_time <= alt.expr.toDate('2020-07-30T00:00:00'))) |\n",
    "                                (alt.datum.posted_time < alt.expr.toDate(\n",
    "                                    '2018-12-31T00:00:00')),\n",
    "                                alt.value('lightblue'), alt.value('lightblue')\n",
    "                                ),\n",
    "        ).properties(width=1200, height=250, title='Num. of Forum Posts (per day)')\n",
    "#chart.configure_bar(stroke='gray')\n",
    "\n",
    "covid_start = daily[daily.posted_time >= '2020-03-01'].iloc[0].values[0]\n",
    "covid_end = daily[daily.posted_time >= '2020-07-31'].iloc[0].values[0]\n",
    "cutoff = pd.DataFrame({\n",
    "    'start': [covid_start],\n",
    "    'stop': [covid_end ]\n",
    "})\n",
    "\n",
    "area_covid = alt.Chart(\n",
    "    cutoff.reset_index()\n",
    ").mark_rect(\n",
    "    opacity=0.5,\n",
    "    stroke='red',\n",
    "    strokeOpacity=1,\n",
    "    strokeWidth=3\n",
    ").encode(\n",
    "    x='start',\n",
    "    x2='stop',\n",
    "    y=alt.value(0),  # pixels from top\n",
    "    y2=alt.value(250),  # pixels from top\n",
    "    color=alt.value('transparent'),\n",
    " \n",
    ")\n",
    "cutoff_2019 = pd.DataFrame({\n",
    "    'start': [daily.posted_time.min()],\n",
    "    'stop': [daily.posted_time.min()],\n",
    "    #'stop': [daily[daily.posted_time >= '2018-12-31'].iloc[0].values[0]],\n",
    "})\n",
    "area_2019= alt.Chart(\n",
    "    cutoff_2019.reset_index()\n",
    ").mark_rect(\n",
    "    opacity=0.5,\n",
    "    stroke='red',\n",
    "    strokeOpacity=1,\n",
    "    strokeWidth=3\n",
    ").encode(\n",
    "    x='start',\n",
    "    x2='stop',\n",
    "    y=alt.value(0),  # pixels from top\n",
    "    y2=alt.value(250),  # pixels from top\n",
    "    color=alt.value('transparent'),\n",
    " \n",
    ")\n",
    "\n",
    "years = []\n",
    "for year in range(2019,2023):\n",
    "    year_dt = pd.to_datetime(str(year)) # CAREFUL! must use str() here!\n",
    "    print(year_dt)\n",
    "    years.append(daily[daily.posted_time >= year_dt].iloc[0].values[0])\n",
    "rules = alt.Chart(pd.DataFrame({\n",
    "  'Date': years, \n",
    "  #'color': 'orange'\n",
    "})).mark_rule().encode(\n",
    "  x='Date:T',\n",
    "  color=alt.value('gray'),\n",
    "  #color=alt.Color('color:N', scale=None)\n",
    "      strokeWidth=alt.value(1.5)\n",
    ")\n",
    "#(demo + rules )\n",
    "#(areas + chart)\n",
    "#(areas +  chart + rules)\n",
    "( chart + area_covid + rules)#area_2019 + rules)\n",
    "from altair_saver import save\n",
    "save( ( chart + area_covid + rules), 'chart.pdf')\n",
    "#chart\n",
    "#overlay = pd.DataFrame({'x': [covid_date]})\n",
    "#vline = alt.Chart(overlay).mark_rule(color='red', strokeWidth=3).encode(x='x:Q')\n",
    "#alt.layer(chart, vline, data=daily)\n",
    "\n",
    "#chart.mark_rule().encode(x=alt.datum(.toDate('2020-03-01T00:00:00')))\n",
    "#chart.mark_rule().encode(x={'Timestamp': \"2020-01-01\"},)"
   ]
  },
  {
   "cell_type": "code",
   "execution_count": null,
   "metadata": {},
   "outputs": [],
   "source": [
    "user_info = df[columns_authors].dropna(subset='author').drop_duplicates(subset='author')\n",
    "print(user_info.author_num_posts.iloc[3]) # string\n",
    "print(user_info.author_num_posts.iloc[2]) #  float\n",
    "user_info['author_num_posts'] = user_info['author_num_posts'].apply(lambda x: int(str(x).replace(',', ''))) # if type(x)=='str' else -99))\n",
    "#_tmp= df['author_num_posts'].apply(lambda x: type(x)) \n",
    "user_info.sort_values(by='author_num_posts')"
   ]
  },
  {
   "cell_type": "code",
   "execution_count": null,
   "metadata": {},
   "outputs": [],
   "source": [
    "#df[columns_authors].dropna().drop_duplicates(subset='author').sort_values(by='author_num_posts', ascending=False)"
   ]
  },
  {
   "cell_type": "code",
   "execution_count": null,
   "metadata": {},
   "outputs": [],
   "source": [
    "#_tmp = user_info.sort_values(by='author_num_posts')['author', 'join_date_readable', 'author_num_posts']\n",
    "user_info[user_info.author == 'Maestro714']"
   ]
  },
  {
   "cell_type": "code",
   "execution_count": null,
   "metadata": {},
   "outputs": [],
   "source": [
    "user_info.author_num_posts.plot() # sort by join date maybe?"
   ]
  }
 ],
 "metadata": {
  "kernelspec": {
   "display_name": "Python 3 (ipykernel)",
   "language": "python",
   "name": "python3"
  },
  "language_info": {
   "codemirror_mode": {
    "name": "ipython",
    "version": 3
   },
   "file_extension": ".py",
   "mimetype": "text/x-python",
   "name": "python",
   "nbconvert_exporter": "python",
   "pygments_lexer": "ipython3",
   "version": "3.10.7"
  },
  "vscode": {
   "interpreter": {
    "hash": "47339dd7c6d4bd32b6c40d54a37ff47f789dc7ff328ffb1f4a95f19daef7217e"
   }
  }
 },
 "nbformat": 4,
 "nbformat_minor": 4
}
